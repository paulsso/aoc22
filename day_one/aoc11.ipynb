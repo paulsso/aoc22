{
 "cells": [
  {
   "cell_type": "code",
   "execution_count": 1,
   "id": "384950ec",
   "metadata": {},
   "outputs": [
    {
     "name": "stdout",
     "output_type": "stream",
     "text": [
      "24000\n"
     ]
    }
   ],
   "source": [
    "import numpy as np\n",
    "\n",
    "file = open(\"example.txt\", \"r\")\n",
    "i = 0\n",
    "elf = 'elf' + str(i)\n",
    "elves = {}\n",
    "elves[elf] = []\n",
    "for l in file:\n",
    "    if l == '\\n':\n",
    "        i += 1\n",
    "        elf = 'elf' + str(i)\n",
    "        elves[elf] = []\n",
    "    else:\n",
    "        p = l.split('\\n')\n",
    "        elves[elf].append(int(p[0]))\n",
    "\n",
    "sum_of_calories = []\n",
    "\n",
    "for item in elves.values():\n",
    "    sum_of_calories.append(np.sum(item))\n",
    "\n",
    "answer = max(sum_of_calories)\n",
    "\n",
    "print(answer)"
   ]
  },
  {
   "cell_type": "code",
   "execution_count": 2,
   "id": "5f4955a4",
   "metadata": {},
   "outputs": [
    {
     "name": "stdout",
     "output_type": "stream",
     "text": [
      "72511\n"
     ]
    }
   ],
   "source": [
    "file = open(\"real_data.txt\", \"r\")\n",
    "i = 0\n",
    "elf = 'elf' + str(i)\n",
    "elves = {}\n",
    "elves[elf] = []\n",
    "for l in file:\n",
    "    if l == '\\n':\n",
    "        i += 1\n",
    "        elf = 'elf' + str(i)\n",
    "        elves[elf] = []\n",
    "    else:\n",
    "        p = l.split('\\n')\n",
    "        elves[elf].append(int(p[0]))\n",
    "\n",
    "sum_of_calories = []\n",
    "\n",
    "for item in elves.values():\n",
    "    sum_of_calories.append(np.sum(item))\n",
    "\n",
    "answer = max(sum_of_calories)\n",
    "\n",
    "print(answer)"
   ]
  },
  {
   "cell_type": "code",
   "execution_count": null,
   "id": "0cc6fada",
   "metadata": {},
   "outputs": [],
   "source": []
  }
 ],
 "metadata": {
  "kernelspec": {
   "display_name": "Python 3 (ipykernel)",
   "language": "python",
   "name": "python3"
  },
  "language_info": {
   "codemirror_mode": {
    "name": "ipython",
    "version": 3
   },
   "file_extension": ".py",
   "mimetype": "text/x-python",
   "name": "python",
   "nbconvert_exporter": "python",
   "pygments_lexer": "ipython3",
   "version": "3.9.12"
  }
 },
 "nbformat": 4,
 "nbformat_minor": 5
}
