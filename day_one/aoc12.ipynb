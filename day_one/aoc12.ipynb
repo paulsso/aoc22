{
 "cells": [
  {
   "cell_type": "code",
   "execution_count": 2,
   "id": "384950ec",
   "metadata": {},
   "outputs": [
    {
     "name": "stdout",
     "output_type": "stream",
     "text": [
      "45000\n"
     ]
    }
   ],
   "source": [
    "import numpy as np\n",
    "\n",
    "file = open(\"example.txt\", \"r\")\n",
    "i = 0\n",
    "elf = 'elf' + str(i)\n",
    "elves = {}\n",
    "elves[elf] = []\n",
    "for l in file:\n",
    "    if l == '\\n':\n",
    "        i += 1\n",
    "        elf = 'elf' + str(i)\n",
    "        elves[elf] = []\n",
    "    else:\n",
    "        p = l.split('\\n')\n",
    "        elves[elf].append(int(p[0]))\n",
    "\n",
    "sum_of_calories = []\n",
    "\n",
    "for item in elves.values():\n",
    "    sum_of_calories.append(np.sum(item))\n",
    "\n",
    "top_three = 0\n",
    "for i in range(3):\n",
    "    top_three += max(sum_of_calories)\n",
    "    sum_of_calories.remove(max(sum_of_calories))\n",
    "\n",
    "print(top_three)"
   ]
  },
  {
   "cell_type": "code",
   "execution_count": 3,
   "id": "5f4955a4",
   "metadata": {},
   "outputs": [
    {
     "name": "stdout",
     "output_type": "stream",
     "text": [
      "212117\n"
     ]
    }
   ],
   "source": [
    "file = open(\"real_data.txt\", \"r\")\n",
    "i = 0\n",
    "elf = 'elf' + str(i)\n",
    "elves = {}\n",
    "elves[elf] = []\n",
    "for l in file:\n",
    "    if l == '\\n':\n",
    "        i += 1\n",
    "        elf = 'elf' + str(i)\n",
    "        elves[elf] = []\n",
    "    else:\n",
    "        p = l.split('\\n')\n",
    "        elves[elf].append(int(p[0]))\n",
    "\n",
    "sum_of_calories = []\n",
    "\n",
    "for item in elves.values():\n",
    "    sum_of_calories.append(np.sum(item))\n",
    "\n",
    "top_three = 0\n",
    "for i in range(3):\n",
    "    top_three += max(sum_of_calories)\n",
    "    sum_of_calories.remove(max(sum_of_calories))\n",
    "\n",
    "print(top_three)"
   ]
  },
  {
   "cell_type": "code",
   "execution_count": null,
   "id": "0cc6fada",
   "metadata": {},
   "outputs": [],
   "source": []
  }
 ],
 "metadata": {
  "kernelspec": {
   "display_name": "Python 3 (ipykernel)",
   "language": "python",
   "name": "python3"
  },
  "language_info": {
   "codemirror_mode": {
    "name": "ipython",
    "version": 3
   },
   "file_extension": ".py",
   "mimetype": "text/x-python",
   "name": "python",
   "nbconvert_exporter": "python",
   "pygments_lexer": "ipython3",
   "version": "3.9.12"
  }
 },
 "nbformat": 4,
 "nbformat_minor": 5
}
